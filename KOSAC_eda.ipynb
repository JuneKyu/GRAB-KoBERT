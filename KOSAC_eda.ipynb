{
 "cells": [
  {
   "cell_type": "code",
   "execution_count": 1,
   "metadata": {},
   "outputs": [
    {
     "name": "stdout",
     "output_type": "stream",
     "text": [
      "/home/junekyu/Study/GRAB-KoBERT\r\n"
     ]
    }
   ],
   "source": [
    "!pwd"
   ]
  },
  {
   "cell_type": "code",
   "execution_count": 3,
   "metadata": {},
   "outputs": [],
   "source": [
    "import pandas as pd\n",
    "# import data_util\n",
    "import numpy as np\n",
    "\n",
    "import os"
   ]
  },
  {
   "cell_type": "code",
   "execution_count": 4,
   "metadata": {},
   "outputs": [],
   "source": [
    "cur_path = os.getcwd()\n",
    "data_path = os.path.join(cur_path, \"data\")"
   ]
  },
  {
   "cell_type": "code",
   "execution_count": 5,
   "metadata": {},
   "outputs": [
    {
     "data": {
      "text/plain": [
       "'/home/junekyu/Study/GRAB-KoBERT/data'"
      ]
     },
     "execution_count": 5,
     "metadata": {},
     "output_type": "execute_result"
    }
   ],
   "source": [
    "data_path"
   ]
  },
  {
   "cell_type": "code",
   "execution_count": 6,
   "metadata": {},
   "outputs": [],
   "source": [
    "hankuk_path = os.path.join(data_path, \"hankuk-sample.csv\")\n",
    "hankyre_path = os.path.join(data_path, \"hankyre-sample.csv\")\n",
    "chosun_life_path = os.path.join(data_path, \"chosun-life-sample.csv\")\n",
    "chosun_society_path = os.path.join(data_path, \"chosun-society-sample.csv\")"
   ]
  },
  {
   "cell_type": "code",
   "execution_count": 12,
   "metadata": {},
   "outputs": [
    {
     "data": {
      "text/plain": [
       "'/home/junekyu/Study/GRAB-KoBERT/data/hankuk-sample.csv'"
      ]
     },
     "execution_count": 12,
     "metadata": {},
     "output_type": "execute_result"
    }
   ],
   "source": [
    "hankuk_path"
   ]
  },
  {
   "cell_type": "code",
   "execution_count": 26,
   "metadata": {},
   "outputs": [
    {
     "name": "stderr",
     "output_type": "stream",
     "text": [
      "b'Skipping line 4: expected 1 fields, saw 3\\nSkipping line 5: expected 1 fields, saw 3\\nSkipping line 6: expected 1 fields, saw 4\\nSkipping line 7: expected 1 fields, saw 3\\nSkipping line 8: expected 1 fields, saw 3\\nSkipping line 9: expected 1 fields, saw 3\\nSkipping line 74: expected 1 fields, saw 5\\nSkipping line 75: expected 1 fields, saw 5\\nSkipping line 76: expected 1 fields, saw 5\\nSkipping line 77: expected 1 fields, saw 7\\nSkipping line 78: expected 1 fields, saw 6\\nSkipping line 79: expected 1 fields, saw 5\\nSkipping line 80: expected 1 fields, saw 5\\nSkipping line 81: expected 1 fields, saw 5\\nSkipping line 82: expected 1 fields, saw 5\\nSkipping line 83: expected 1 fields, saw 6\\nSkipping line 84: expected 1 fields, saw 5\\n'\n"
     ]
    }
   ],
   "source": [
    "# train = pd.read_table('/home/junekyu/Study/GRAB-KoBERT/data/ratings_train.txt')\n",
    "# train_hankuk = pd.read_csv(hankuk_path, error_bad_lines=False)\n",
    "train_hankuk = pd.read_csv(hankuk_path, error_bad_lines=False, encoding='CP949')\n",
    "# train_hankuk = pd.read_csv(hankuk_path, error_bad_lines=False, encoding='latin')"
   ]
  },
  {
   "cell_type": "code",
   "execution_count": 27,
   "metadata": {},
   "outputs": [
    {
     "data": {
      "text/html": [
       "<div>\n",
       "<style scoped>\n",
       "    .dataframe tbody tr th:only-of-type {\n",
       "        vertical-align: middle;\n",
       "    }\n",
       "\n",
       "    .dataframe tbody tr th {\n",
       "        vertical-align: top;\n",
       "    }\n",
       "\n",
       "    .dataframe thead th {\n",
       "        text-align: right;\n",
       "    }\n",
       "</style>\n",
       "<table border=\"1\" class=\"dataframe\">\n",
       "  <thead>\n",
       "    <tr style=\"text-align: right;\">\n",
       "      <th></th>\n",
       "      <th>tag_id\\tsent_id\\ttag type\\tmorphemes\\ttype\\tsubjectivity-type\\tsubjectivity-polarity\\tpolarity\\tintensity\\tnested-source\\ttarget\\tcomment\\tconfident\\traw-sentence\\tsentence-morph</th>\n",
       "    </tr>\n",
       "  </thead>\n",
       "  <tbody>\n",
       "    <tr>\n",
       "      <th>0</th>\n",
       "      <td>23472\\t3215\\tObjTag\\t\\t\\t\\t\\t\\t\\t\\t\\t\\tTRUE\\t[...</td>\n",
       "    </tr>\n",
       "    <tr>\n",
       "      <th>1</th>\n",
       "      <td>23473\\t3216\\tObjTag\\t\\t\\t\\t\\t\\t\\t\\t\\t\\tTRUE\\t9...</td>\n",
       "    </tr>\n",
       "    <tr>\n",
       "      <th>2</th>\n",
       "      <td>23475\\t3218\\tSubjTag\\t\\t\\t\\t\\tNEG\\tMedium\\t\\t\\...</td>\n",
       "    </tr>\n",
       "    <tr>\n",
       "      <th>3</th>\n",
       "      <td>23577\\t3218\\tSeed\\t마저/JX#97041\\twriting-device...</td>\n",
       "    </tr>\n",
       "    <tr>\n",
       "      <th>4</th>\n",
       "      <td>23578\\t3218\\tSeed\\t기껏해야/MAG#97043\\twriting-dev...</td>\n",
       "    </tr>\n",
       "    <tr>\n",
       "      <th>...</th>\n",
       "      <td>...</td>\n",
       "    </tr>\n",
       "    <tr>\n",
       "      <th>122</th>\n",
       "      <td>23683\\t3240\\tSeed\\t아야/EC#97705; 하/VX#97706\\twr...</td>\n",
       "    </tr>\n",
       "    <tr>\n",
       "      <th>123</th>\n",
       "      <td>23498\\t3241\\tSubjTag\\t\\t\\t\\t\\tNEG\\tLow\\t\\t\\t\\t...</td>\n",
       "    </tr>\n",
       "    <tr>\n",
       "      <th>124</th>\n",
       "      <td>23684\\t3241\\tSeed\\t한탄/NNG#97709; 하/VV#97711\\ti...</td>\n",
       "    </tr>\n",
       "    <tr>\n",
       "      <th>125</th>\n",
       "      <td>23685\\t3241\\tSeed\\t만/JX#97710\\twriting-device\\...</td>\n",
       "    </tr>\n",
       "    <tr>\n",
       "      <th>126</th>\n",
       "      <td>23686\\t3241\\tSeed\\t을/ETM#97714; 때/NNG#97715; 가...</td>\n",
       "    </tr>\n",
       "  </tbody>\n",
       "</table>\n",
       "<p>127 rows × 1 columns</p>\n",
       "</div>"
      ],
      "text/plain": [
       "    tag_id\\tsent_id\\ttag type\\tmorphemes\\ttype\\tsubjectivity-type\\tsubjectivity-polarity\\tpolarity\\tintensity\\tnested-source\\ttarget\\tcomment\\tconfident\\traw-sentence\\tsentence-morph\n",
       "0    23472\\t3215\\tObjTag\\t\\t\\t\\t\\t\\t\\t\\t\\t\\tTRUE\\t[...                                                                                                                                \n",
       "1    23473\\t3216\\tObjTag\\t\\t\\t\\t\\t\\t\\t\\t\\t\\tTRUE\\t9...                                                                                                                                \n",
       "2    23475\\t3218\\tSubjTag\\t\\t\\t\\t\\tNEG\\tMedium\\t\\t\\...                                                                                                                                \n",
       "3    23577\\t3218\\tSeed\\t마저/JX#97041\\twriting-device...                                                                                                                                \n",
       "4    23578\\t3218\\tSeed\\t기껏해야/MAG#97043\\twriting-dev...                                                                                                                                \n",
       "..                                                 ...                                                                                                                                \n",
       "122  23683\\t3240\\tSeed\\t아야/EC#97705; 하/VX#97706\\twr...                                                                                                                                \n",
       "123  23498\\t3241\\tSubjTag\\t\\t\\t\\t\\tNEG\\tLow\\t\\t\\t\\t...                                                                                                                                \n",
       "124  23684\\t3241\\tSeed\\t한탄/NNG#97709; 하/VV#97711\\ti...                                                                                                                                \n",
       "125  23685\\t3241\\tSeed\\t만/JX#97710\\twriting-device\\...                                                                                                                                \n",
       "126  23686\\t3241\\tSeed\\t을/ETM#97714; 때/NNG#97715; 가...                                                                                                                                \n",
       "\n",
       "[127 rows x 1 columns]"
      ]
     },
     "execution_count": 27,
     "metadata": {},
     "output_type": "execute_result"
    }
   ],
   "source": [
    "train_hankuk"
   ]
  },
  {
   "cell_type": "code",
   "execution_count": 28,
   "metadata": {},
   "outputs": [
    {
     "data": {
      "text/plain": [
       "(127, 1)"
      ]
     },
     "execution_count": 28,
     "metadata": {},
     "output_type": "execute_result"
    }
   ],
   "source": [
    "train_hankuk.shape"
   ]
  },
  {
   "cell_type": "code",
   "execution_count": null,
   "metadata": {},
   "outputs": [],
   "source": []
  }
 ],
 "metadata": {
  "kernelspec": {
   "display_name": "kcc",
   "language": "python",
   "name": "kcc"
  },
  "language_info": {
   "codemirror_mode": {
    "name": "ipython",
    "version": 3
   },
   "file_extension": ".py",
   "mimetype": "text/x-python",
   "name": "python",
   "nbconvert_exporter": "python",
   "pygments_lexer": "ipython3",
   "version": "3.7.7"
  }
 },
 "nbformat": 4,
 "nbformat_minor": 4
}
